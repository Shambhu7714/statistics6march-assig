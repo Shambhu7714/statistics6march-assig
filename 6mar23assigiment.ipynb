{
 "cells": [
  {
   "attachments": {},
   "cell_type": "markdown",
   "metadata": {
    "notebookRunGroups": {
     "groupValue": "1"
    }
   },
   "source": [
    "Q1. What is Statistics"
   ]
  },
  {
   "attachments": {},
   "cell_type": "markdown",
   "metadata": {},
   "source": [
    "\n",
    "Statistics is the study of the collection, analysis, interpretation, presentation, and organization of data. In other words, it is a mathematical discipline to collect, summarize data"
   ]
  },
  {
   "attachments": {},
   "cell_type": "markdown",
   "metadata": {},
   "source": [
    "Q2. Define the different types of statistics and give an example of when each type might be used.\n"
   ]
  },
  {
   "attachments": {},
   "cell_type": "markdown",
   "metadata": {},
   "source": [
    "1.DESCRIPTIVE STATISTICS\n",
    "example:- classroom of math student is 20\n",
    "2. INFECTIAL STATISTICS\n",
    "example:- exitpoll(on election)"
   ]
  },
  {
   "attachments": {},
   "cell_type": "markdown",
   "metadata": {},
   "source": [
    "Q3.  What are the different types of data and how do they differ from each other? Provide an example of\n",
    "each type of data.\n"
   ]
  },
  {
   "attachments": {},
   "cell_type": "markdown",
   "metadata": {},
   "source": [
    "The data is classified into majorly four categories:\n",
    "\n",
    "Nominal data:-simply given name (eample cricket player jurci number)\n",
    "Ordinal data:- example (economics, questionnaires)\n",
    "Discrete data:- example(Number of students in the clas)\n",
    "Continuous data:- Example: Temperature range\n",
    "\n"
   ]
  },
  {
   "attachments": {},
   "cell_type": "markdown",
   "metadata": {},
   "source": [
    "Q4. Categorise the following datasets with respect to quantitative and qualitative data types:"
   ]
  },
  {
   "attachments": {},
   "cell_type": "markdown",
   "metadata": {},
   "source": [
    "(i) Grading in exam: A+, A, B+, B, C+, C, D, E (Qualitative or Categorical Data)\n",
    "(ii) Colour of mangoes: yellow, green, orange, red (Qualitative or Categorical Data)\n",
    "(iii) Height data of a class: [178.9, 179, 179.5, 176, 177.2, 178.3, 175.8,...] (Quantitative or Numerical Data)\n",
    "(iv) Number of mangoes exported by a farm: [500, 600, 478, 672, ...] (Quantitative or Numerical Data)"
   ]
  },
  {
   "attachments": {},
   "cell_type": "markdown",
   "metadata": {},
   "source": [
    "Q5. Explain the concept of levels of measurement and give an example of a variable for each level."
   ]
  },
  {
   "attachments": {},
   "cell_type": "markdown",
   "metadata": {},
   "source": [
    "In Statistics, the variables or numbers are defined and categorised using different\n",
    "scales of\n",
    "measurements . Each level of measurement scale has specific properties that determine the\n",
    "various use of statistical analysis.\n",
    "\n",
    "Levels of Measurements\n",
    "There are four different scales of measurement. The data can be defined as being one of the four\n",
    "scales. The four types of scales are:\n",
    "1. Nominal Scale\n",
    "A nominal scale is the 1\n",
    "st level of measurement scale in which the numbers serve as “tags” or\n",
    "“labels” to classify or identify the objects. A nominal scale usually deals with the non numeric\n",
    "variables or the numbers that do not have any value.\n",
    "example:- What is your gender?\n",
    "M= male\n",
    "F=female\n",
    "2. Ordinal Scale\n",
    "The ordinal scale shows the relative ranking of the variables\n",
    "example:- Ranking of school students 1st, 2nd, 3rd, etc.\n",
    "\n",
    "3. Interval Scale\n",
    "The interval scale is quantitative as it can quantify the difference between the values\n",
    "\n",
    "It allows calculating the mean and median of the variables\n",
    "Ratio Scale\n",
    "Example:\n",
    "Likert Scale\n",
    "Net Promoter Score (NPS)\n",
    "Bipolar Matrix Table\n",
    "4. Ratio Scale\n",
    "The ratio scale is the 4th level of measurement scale, which is quantitative. It is a type of variable measurement scale. It allows\n",
    "researchers to compare the differences or intervals. The ratio scale has a unique feature. It possesses the character of the ori gin or\n",
    "zero points.\n",
    "Example:\n",
    "An example of a ratio scale is:\n",
    "What is your weight in Kgs?\n",
    "Less than 55 kgs\n",
    "55-75 kgs\n",
    "76-85 kgs\n",
    "86-95 kgs\n",
    "More than 95 kgs"
   ]
  },
  {
   "attachments": {},
   "cell_type": "markdown",
   "metadata": {},
   "source": [
    "Q6. Why is it important to understand the level of measurement when analyzing data? Provide an\n",
    "example to illustrate your answer."
   ]
  },
  {
   "attachments": {},
   "cell_type": "markdown",
   "metadata": {},
   "source": [
    "becuse level of measurement difiend which cetogries belong the data and which technique use to analysic the data so level\n",
    "of masurement is so important\n",
    "example:- ranking namening and interval order all are different schel its decided to which data take when time\n"
   ]
  },
  {
   "attachments": {},
   "cell_type": "markdown",
   "metadata": {},
   "source": [
    "Q7. How nominal data type is different from ordinal data type."
   ]
  },
  {
   "attachments": {},
   "cell_type": "markdown",
   "metadata": {},
   "source": [
    "Ordinal data is analyzed by mode, median, quartiles, and percentile, whereas nominal data is analyzed by grouping variables into categories and calculating the distribution mode. Nominal data are categorical, whereas Ordinal data are both categorical and quantitative."
   ]
  },
  {
   "attachments": {},
   "cell_type": "markdown",
   "metadata": {},
   "source": [
    "Q8. Which type of plot can be used to display data in terms of range?"
   ]
  },
  {
   "attachments": {},
   "cell_type": "markdown",
   "metadata": {},
   "source": [
    "Histogram."
   ]
  },
  {
   "attachments": {},
   "cell_type": "markdown",
   "metadata": {},
   "source": [
    "Q9. Describe the difference between descriptive and inferential statistics. Give an example of each\n",
    "type of statistics and explain how they are used."
   ]
  },
  {
   "attachments": {},
   "cell_type": "markdown",
   "metadata": {},
   "source": [
    "Descriptive statistics explains already known data related to a particular sample or population of a small size. Inferential statistics, however, aims to draw inferences or conclusions about a whole population. \n",
    "\n",
    "Inferential statistics helps to compare data, make hypotheses and predictions.\n",
    "\n",
    "We use descriptive statistics to describe a situation\n",
    "we use inferential statistics to explain the probability of occurrence of an event. \n",
    "\n",
    "We use charts, graphs, and tables to represent descriptive statistics\n",
    "we use probability methods for inferential statistics."
   ]
  },
  {
   "attachments": {},
   "cell_type": "markdown",
   "metadata": {},
   "source": [
    "Q10. What are some common measures of central tendency and variability used in statistics? Explain\n",
    "how each measure can be used to describe a dataset."
   ]
  },
  {
   "attachments": {},
   "cell_type": "markdown",
   "metadata": {},
   "source": [
    "there are three Measures of Central Tendency\n",
    "1. mean \n",
    "2. median\n",
    "3. mode\n",
    "the data set of using measured of central tendency is filling the messing data and splving the different ploting methord"
   ]
  }
 ],
 "metadata": {
  "language_info": {
   "name": "python"
  },
  "orig_nbformat": 4
 },
 "nbformat": 4,
 "nbformat_minor": 2
}
